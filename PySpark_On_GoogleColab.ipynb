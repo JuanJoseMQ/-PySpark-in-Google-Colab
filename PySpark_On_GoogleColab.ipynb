{
  "nbformat": 4,
  "nbformat_minor": 0,
  "metadata": {
    "colab": {
      "provenance": [],
      "collapsed_sections": []
    },
    "kernelspec": {
      "name": "python3",
      "display_name": "Python 3"
    },
    "language_info": {
      "name": "python"
    }
  },
  "cells": [
    {
      "cell_type": "markdown",
      "source": [
        "## PySpark on Google Colab"
      ],
      "metadata": {
        "id": "ctZsryCRT-Uu"
      }
    },
    {
      "cell_type": "markdown",
      "source": [
        "Spark is written in the Scala programming language and requires the Java Virtual Machine (JVM) to run. \n",
        "\n",
        "Therefore, our first task is to download Java.\n"
      ],
      "metadata": {
        "id": "cHb3DAdeQkTm"
      }
    },
    {
      "cell_type": "code",
      "source": [
        "!apt-get install openjdk-8-jdk-headless -qq > /dev/null"
      ],
      "metadata": {
        "id": "P5qqz3EtPVdw"
      },
      "execution_count": null,
      "outputs": []
    },
    {
      "cell_type": "markdown",
      "source": [
        "Next, we will install Apache Spark 3.2.1 with Hadoop 3.2 from here: https://spark.apache.org/downloads.html"
      ],
      "metadata": {
        "id": "sOA9M0UHQohU"
      }
    },
    {
      "cell_type": "code",
      "source": [
        "!wget -q https://dlcdn.apache.org/spark/spark-3.2.1/spark-3.2.1-bin-hadoop3.2.tgz"
      ],
      "metadata": {
        "id": "QIsh4-wJQo2e"
      },
      "execution_count": null,
      "outputs": []
    },
    {
      "cell_type": "markdown",
      "source": [
        "Note – At the time of writing this article, 3.2.1 was the latest version of Apache Spark. But Spark is developing quite rapidly. So, if there is a newer version of Spark when you are executing this code, then you just need to replace 3.2.1, wherever you see it, with the latest version."
      ],
      "metadata": {
        "id": "Jq2au_AURjeh"
      }
    },
    {
      "cell_type": "markdown",
      "source": [
        "Now, we just need to unzip that folder."
      ],
      "metadata": {
        "id": "vYKTeMLfQvB9"
      }
    },
    {
      "cell_type": "code",
      "source": [
        "!tar xf spark-3.2.1-bin-hadoop3.2.tgz"
      ],
      "metadata": {
        "id": "LXiyiWm0QvZ6"
      },
      "execution_count": null,
      "outputs": []
    },
    {
      "cell_type": "markdown",
      "source": [
        "There is one last thing that we need to install and that is the findspark library. \n",
        "It will locate Spark on the system and import it as a regular library."
      ],
      "metadata": {
        "id": "GyilT2gfRwrB"
      }
    },
    {
      "cell_type": "code",
      "source": [
        "!pip install -q findspark"
      ],
      "metadata": {
        "id": "M6mQrbP8QyxA"
      },
      "execution_count": null,
      "outputs": []
    },
    {
      "cell_type": "markdown",
      "source": [
        "Now that we have installed all the necessary dependencies in Colab, it is time to set the environment path. This will enable us to run Pyspark in the Colab environment."
      ],
      "metadata": {
        "id": "HTKmwvwuR3OA"
      }
    },
    {
      "cell_type": "code",
      "source": [
        "import os\n",
        "os.environ[\"JAVA_HOME\"] = \"/usr/lib/jvm/java-8-openjdk-amd64\"\n",
        "os.environ[\"SPARK_HOME\"] = \"/content/spark-3.2.1-bin-hadoop3.2\""
      ],
      "metadata": {
        "id": "KL0FRyPyRz8G"
      },
      "execution_count": null,
      "outputs": []
    },
    {
      "cell_type": "markdown",
      "source": [
        "Time for the real test!\n",
        "\n",
        "We need to locate Spark in the system. For that, we import findspark and use the findspark.init() method."
      ],
      "metadata": {
        "id": "SYxV7VO-SAUi"
      }
    },
    {
      "cell_type": "code",
      "source": [
        "import findspark\n",
        "findspark.init()"
      ],
      "metadata": {
        "id": "kT6j8wNZR8se"
      },
      "execution_count": null,
      "outputs": []
    },
    {
      "cell_type": "code",
      "source": [
        "findspark.find()"
      ],
      "metadata": {
        "colab": {
          "base_uri": "https://localhost:8080/",
          "height": 35
        },
        "id": "nNtFjpptSTkd",
        "outputId": "0bb3a86f-6cdf-467d-ad66-d67ee80b0642"
      },
      "execution_count": null,
      "outputs": [
        {
          "output_type": "execute_result",
          "data": {
            "application/vnd.google.colaboratory.intrinsic+json": {
              "type": "string"
            },
            "text/plain": [
              "'/content/spark-3.2.1-bin-hadoop3.2'"
            ]
          },
          "metadata": {},
          "execution_count": 7
        }
      ]
    },
    {
      "cell_type": "markdown",
      "source": [
        "Now, we can import SparkSession from pyspark.sql and create a SparkSession, which is the entry point to Spark.\n",
        "\n",
        "You can give a name to the session using appName() and add some configurations with config() if you wish."
      ],
      "metadata": {
        "id": "9NQ5-HVoSKeY"
      }
    },
    {
      "cell_type": "markdown",
      "source": [
        "Extra material: https://sparkbyexamples.com/pyspark/pyspark-what-is-sparksession/"
      ],
      "metadata": {
        "id": "MAa1TNSbRD_8"
      }
    },
    {
      "cell_type": "code",
      "source": [
        "# SparkSession : punto de entrada a PySpark para trabajar con RDD / Dataframes\n",
        "\n",
        "from pyspark.sql import SparkSession\n",
        "\n",
        "spark = SparkSession.builder.getOrCreate()"
      ],
      "metadata": {
        "id": "WX1deffhSLrO"
      },
      "execution_count": null,
      "outputs": []
    },
    {
      "cell_type": "code",
      "source": [
        "spark"
      ],
      "metadata": {
        "colab": {
          "base_uri": "https://localhost:8080/",
          "height": 219
        },
        "id": "R5KUNQjOSWRC",
        "outputId": "bf6c153e-87fd-42c9-f807-74b7cd7ca7ba"
      },
      "execution_count": null,
      "outputs": [
        {
          "output_type": "execute_result",
          "data": {
            "text/html": [
              "\n",
              "            <div>\n",
              "                <p><b>SparkSession - in-memory</b></p>\n",
              "                \n",
              "        <div>\n",
              "            <p><b>SparkContext</b></p>\n",
              "\n",
              "            <p><a href=\"http://8828bdbda634:4040\">Spark UI</a></p>\n",
              "\n",
              "            <dl>\n",
              "              <dt>Version</dt>\n",
              "                <dd><code>v3.2.1</code></dd>\n",
              "              <dt>Master</dt>\n",
              "                <dd><code>local[*]</code></dd>\n",
              "              <dt>AppName</dt>\n",
              "                <dd><code>pyspark-shell</code></dd>\n",
              "            </dl>\n",
              "        </div>\n",
              "        \n",
              "            </div>\n",
              "        "
            ],
            "text/plain": [
              "<pyspark.sql.session.SparkSession at 0x7f1bf5c1ded0>"
            ]
          },
          "metadata": {},
          "execution_count": 9
        }
      ]
    },
    {
      "cell_type": "markdown",
      "source": [
        "Import data!\n",
        "\n",
        "This dataset was obtained from : https://datahack.analyticsvidhya.com/contest/black-friday/#ProblemStatement"
      ],
      "metadata": {
        "id": "2j1gxCVXTYSP"
      }
    },
    {
      "cell_type": "code",
      "source": [
        "!gdown https://drive.google.com/uc?id=1LnlIF2s8deJAgBQ2-wSso_yXM6_yVU9d"
      ],
      "metadata": {
        "colab": {
          "base_uri": "https://localhost:8080/"
        },
        "id": "pmWMM0skSchM",
        "outputId": "73d45910-4b30-4ac1-c2b3-1319c8c24acc"
      },
      "execution_count": null,
      "outputs": [
        {
          "output_type": "stream",
          "name": "stdout",
          "text": [
            "Downloading...\n",
            "From: https://drive.google.com/uc?id=1LnlIF2s8deJAgBQ2-wSso_yXM6_yVU9d\n",
            "To: /content/train.csv\n",
            "100% 25.5M/25.5M [00:00<00:00, 145MB/s] \n"
          ]
        }
      ]
    },
    {
      "cell_type": "markdown",
      "source": [
        "### Business Problem:\n",
        "\n",
        "A retail company “ABC Private Limited” wants to understand the customer purchase behaviour (specifically, purchase amount) against various products of different categories. They have shared purchase summary of various customers for selected high volume products from last month.\n",
        "The data set also contains customer demographics (age, gender, marital status, city_type, stay_in_current_city), product details (product_id and product category) and Total purchase_amount from last month.\n",
        "\n",
        "Now, they want to build a model to predict the purchase amount of customer against various products which will help them to create personalized offer for customers against different products."
      ],
      "metadata": {
        "id": "ngW1v64WWqNO"
      }
    },
    {
      "cell_type": "markdown",
      "source": [
        "## Reading csv files"
      ],
      "metadata": {
        "id": "A4MnvCXwkHUI"
      }
    },
    {
      "cell_type": "markdown",
      "source": [
        "If you are curious, please find below how to read different files types with Spark:\n",
        "\n",
        "https://www.analyticsvidhya.com/blog/2020/10/data-engineering-101-data-sources-apache-spark/?utm_source=blog&utm_medium=working-with-pyspark-on-google-colab-for-data-scientists"
      ],
      "metadata": {
        "id": "vKuen7Q3WBoJ"
      }
    },
    {
      "cell_type": "code",
      "source": [
        "df = spark.read.csv(\"train.csv\", header=True)"
      ],
      "metadata": {
        "id": "6FOrHDnyTadn"
      },
      "execution_count": null,
      "outputs": []
    },
    {
      "cell_type": "markdown",
      "source": [
        "## Show data"
      ],
      "metadata": {
        "id": "Nbvk0mv8kLbA"
      }
    },
    {
      "cell_type": "code",
      "source": [
        "df.show(5)"
      ],
      "metadata": {
        "colab": {
          "base_uri": "https://localhost:8080/"
        },
        "id": "ArrIgdxEVaS7",
        "outputId": "d414cfee-d093-49ec-deba-1062b228de6c"
      },
      "execution_count": null,
      "outputs": [
        {
          "output_type": "stream",
          "name": "stdout",
          "text": [
            "+-------+----------+------+----+----------+-------------+--------------------------+--------------+------------------+------------------+------------------+--------+\n",
            "|User_ID|Product_ID|Gender| Age|Occupation|City_Category|Stay_In_Current_City_Years|Marital_Status|Product_Category_1|Product_Category_2|Product_Category_3|Purchase|\n",
            "+-------+----------+------+----+----------+-------------+--------------------------+--------------+------------------+------------------+------------------+--------+\n",
            "|1000001| P00069042|     F|0-17|        10|            A|                         2|             0|                 3|              null|              null|    8370|\n",
            "|1000001| P00248942|     F|0-17|        10|            A|                         2|             0|                 1|                 6|                14|   15200|\n",
            "|1000001| P00087842|     F|0-17|        10|            A|                         2|             0|                12|              null|              null|    1422|\n",
            "|1000001| P00085442|     F|0-17|        10|            A|                         2|             0|                12|                14|              null|    1057|\n",
            "|1000002| P00285442|     M| 55+|        16|            C|                        4+|             0|                 8|              null|              null|    7969|\n",
            "+-------+----------+------+----+----------+-------------+--------------------------+--------------+------------------+------------------+------------------+--------+\n",
            "only showing top 5 rows\n",
            "\n"
          ]
        }
      ]
    },
    {
      "cell_type": "markdown",
      "source": [
        "## Show column details"
      ],
      "metadata": {
        "id": "JgnzrXuIkZzv"
      }
    },
    {
      "cell_type": "code",
      "source": [
        "df.printSchema()"
      ],
      "metadata": {
        "colab": {
          "base_uri": "https://localhost:8080/"
        },
        "id": "M2IqznWtWSVn",
        "outputId": "c0093b4b-bc7c-467c-d7ea-22f725631eec"
      },
      "execution_count": null,
      "outputs": [
        {
          "output_type": "stream",
          "name": "stdout",
          "text": [
            "root\n",
            " |-- User_ID: string (nullable = true)\n",
            " |-- Product_ID: string (nullable = true)\n",
            " |-- Gender: string (nullable = true)\n",
            " |-- Age: string (nullable = true)\n",
            " |-- Occupation: string (nullable = true)\n",
            " |-- City_Category: string (nullable = true)\n",
            " |-- Stay_In_Current_City_Years: string (nullable = true)\n",
            " |-- Marital_Status: string (nullable = true)\n",
            " |-- Product_Category_1: string (nullable = true)\n",
            " |-- Product_Category_2: string (nullable = true)\n",
            " |-- Product_Category_3: string (nullable = true)\n",
            " |-- Purchase: string (nullable = true)\n",
            "\n"
          ]
        }
      ]
    },
    {
      "cell_type": "markdown",
      "source": [
        "## Official description\n",
        "User_ID\t-> User ID <br>\n",
        "Product_ID\t-> Product ID <br>\n",
        "Gender\t-> Sex of User <br>\n",
        "Age\t-> Age in bins <br>\n",
        "Occupation\t-> Occupation (Masked) <br>\n",
        "City_Category\t-> Category of the City (A,B,C) <br>\n",
        "Stay_In_Current_City_Years\t-> Number of years stay in current city <br>\n",
        "Marital_Status\t-> Marital Status <br>\n",
        "Product_Category_1\t-> Product Category (Masked) <br>\n",
        "Product_Category_2\t-> Product may belongs to other category also (Masked) <br>\n",
        "Product_Category_3\t-> Product may belongs to other category also (Masked) <br>\n",
        "Purchase\t-> Purchase Amount (Target Variable) <br>"
      ],
      "metadata": {
        "id": "hjMU3mv2kh_9"
      }
    },
    {
      "cell_type": "markdown",
      "source": [
        "### Number of rows and columns in DF"
      ],
      "metadata": {
        "id": "KSVd8Aogk8IL"
      }
    },
    {
      "cell_type": "code",
      "source": [
        "df.count(), len(df.columns)"
      ],
      "metadata": {
        "colab": {
          "base_uri": "https://localhost:8080/"
        },
        "id": "wcw3aeGYWhFj",
        "outputId": "c76a8a59-d77c-4e76-c084-3ed3522d026d"
      },
      "execution_count": null,
      "outputs": [
        {
          "output_type": "execute_result",
          "data": {
            "text/plain": [
              "(550068, 12)"
            ]
          },
          "metadata": {},
          "execution_count": 14
        }
      ]
    },
    {
      "cell_type": "markdown",
      "source": [
        "## Display specific column"
      ],
      "metadata": {
        "id": "iSx-1CONlCjj"
      }
    },
    {
      "cell_type": "code",
      "source": [
        "df.select(\"User_ID\",\"Gender\",\"Age\",\"Occupation\").show(5)"
      ],
      "metadata": {
        "colab": {
          "base_uri": "https://localhost:8080/"
        },
        "id": "r_ZY9tZxYOu0",
        "outputId": "2abbfc92-0f1b-4a69-e178-482e5ae4875f"
      },
      "execution_count": null,
      "outputs": [
        {
          "output_type": "stream",
          "name": "stdout",
          "text": [
            "+-------+------+----+----------+\n",
            "|User_ID|Gender| Age|Occupation|\n",
            "+-------+------+----+----------+\n",
            "|1000001|     F|0-17|        10|\n",
            "|1000001|     F|0-17|        10|\n",
            "|1000001|     F|0-17|        10|\n",
            "|1000001|     F|0-17|        10|\n",
            "|1000002|     M| 55+|        16|\n",
            "+-------+------+----+----------+\n",
            "only showing top 5 rows\n",
            "\n"
          ]
        }
      ]
    },
    {
      "cell_type": "markdown",
      "source": [
        "### Describing the columns"
      ],
      "metadata": {
        "id": "1UZqen0llLzN"
      }
    },
    {
      "cell_type": "code",
      "source": [
        "df.describe().show()"
      ],
      "metadata": {
        "colab": {
          "base_uri": "https://localhost:8080/"
        },
        "id": "C-pZNcmuYYGA",
        "outputId": "dad40899-a9bd-4ed4-f6be-41aa7830a169"
      },
      "execution_count": null,
      "outputs": [
        {
          "output_type": "stream",
          "name": "stdout",
          "text": [
            "+-------+------------------+----------+------+------+-----------------+-------------+--------------------------+-------------------+------------------+------------------+------------------+-----------------+\n",
            "|summary|           User_ID|Product_ID|Gender|   Age|       Occupation|City_Category|Stay_In_Current_City_Years|     Marital_Status|Product_Category_1|Product_Category_2|Product_Category_3|         Purchase|\n",
            "+-------+------------------+----------+------+------+-----------------+-------------+--------------------------+-------------------+------------------+------------------+------------------+-----------------+\n",
            "|  count|            550068|    550068|550068|550068|           550068|       550068|                    550068|             550068|            550068|            376430|            166821|           550068|\n",
            "|   mean|1003028.8424013031|      null|  null|  null|8.076706879876669|         null|         1.468494139793958|0.40965298835780306| 5.404270017525106| 9.842329251122386|12.668243206790512|9263.968712959126|\n",
            "| stddev|1727.5915855313747|      null|  null|  null|6.522660487341741|         null|        0.9890866807573103| 0.4917701263173315| 3.936211369201365| 5.086589648693497| 4.125337631575274|5023.065393820575|\n",
            "|    min|           1000001| P00000142|     F|  0-17|                0|            A|                         0|                  0|                 1|                10|                10|            10000|\n",
            "|    max|           1006040|  P0099942|     M|   55+|                9|            C|                        4+|                  1|                 9|                 9|                 9|             9999|\n",
            "+-------+------------------+----------+------+------+-----------------+-------------+--------------------------+-------------------+------------------+------------------+------------------+-----------------+\n",
            "\n"
          ]
        }
      ]
    },
    {
      "cell_type": "markdown",
      "source": [
        "### Distinct values for Categorical columns"
      ],
      "metadata": {
        "id": "TJ7H9eaGlWFR"
      }
    },
    {
      "cell_type": "code",
      "source": [
        "# Distinct value of one column\n",
        "df.select(\"City_Category\").distinct().show()"
      ],
      "metadata": {
        "colab": {
          "base_uri": "https://localhost:8080/"
        },
        "id": "Ks_bNCXglOIF",
        "outputId": "375b92d6-b55d-415d-8ecb-63bcb05433c4"
      },
      "execution_count": null,
      "outputs": [
        {
          "output_type": "stream",
          "name": "stdout",
          "text": [
            "+-------------+\n",
            "|City_Category|\n",
            "+-------------+\n",
            "|            B|\n",
            "|            C|\n",
            "|            A|\n",
            "+-------------+\n",
            "\n"
          ]
        }
      ]
    },
    {
      "cell_type": "code",
      "source": [
        "# Distinct value of two columns\n",
        "df.select(\"City_Category\", \"Stay_In_Current_City_Years\").distinct().show(10)"
      ],
      "metadata": {
        "colab": {
          "base_uri": "https://localhost:8080/"
        },
        "id": "bpDPz2PBlZYk",
        "outputId": "ac7e229a-47ef-4e9b-9ca6-7a8d10bc0556"
      },
      "execution_count": null,
      "outputs": [
        {
          "output_type": "stream",
          "name": "stdout",
          "text": [
            "+-------------+--------------------------+\n",
            "|City_Category|Stay_In_Current_City_Years|\n",
            "+-------------+--------------------------+\n",
            "|            A|                        4+|\n",
            "|            B|                         2|\n",
            "|            C|                         2|\n",
            "|            A|                         3|\n",
            "|            B|                         3|\n",
            "|            C|                         1|\n",
            "|            A|                         1|\n",
            "|            C|                        4+|\n",
            "|            C|                         0|\n",
            "|            A|                         0|\n",
            "+-------------+--------------------------+\n",
            "only showing top 10 rows\n",
            "\n"
          ]
        }
      ]
    },
    {
      "cell_type": "code",
      "source": [
        "# Distinct value of two columns + Order values\n",
        "df.select(\"City_Category\", \"Stay_In_Current_City_Years\").distinct().orderBy(\"City_Category\", \"Stay_In_Current_City_Years\").show(10)"
      ],
      "metadata": {
        "colab": {
          "base_uri": "https://localhost:8080/"
        },
        "id": "n42pt46slh1Z",
        "outputId": "6870db4d-b787-4d8b-c555-f1225ddeba91"
      },
      "execution_count": null,
      "outputs": [
        {
          "output_type": "stream",
          "name": "stdout",
          "text": [
            "+-------------+--------------------------+\n",
            "|City_Category|Stay_In_Current_City_Years|\n",
            "+-------------+--------------------------+\n",
            "|            A|                         0|\n",
            "|            A|                         1|\n",
            "|            A|                         2|\n",
            "|            A|                         3|\n",
            "|            A|                        4+|\n",
            "|            B|                         0|\n",
            "|            B|                         1|\n",
            "|            B|                         2|\n",
            "|            B|                         3|\n",
            "|            B|                        4+|\n",
            "+-------------+--------------------------+\n",
            "only showing top 10 rows\n",
            "\n"
          ]
        }
      ]
    },
    {
      "cell_type": "markdown",
      "source": [
        "## Group by sentence"
      ],
      "metadata": {
        "id": "JS_HE4yHmsFT"
      }
    },
    {
      "cell_type": "code",
      "source": [
        "# Group by one column\n",
        "df.groupBy(\"City_Category\").count().show()"
      ],
      "metadata": {
        "colab": {
          "base_uri": "https://localhost:8080/"
        },
        "id": "zqHqWJQ2lsqr",
        "outputId": "636320ec-46f0-421c-8616-21b36e6a0dff"
      },
      "execution_count": null,
      "outputs": [
        {
          "output_type": "stream",
          "name": "stdout",
          "text": [
            "+-------------+------+\n",
            "|City_Category| count|\n",
            "+-------------+------+\n",
            "|            B|231173|\n",
            "|            C|171175|\n",
            "|            A|147720|\n",
            "+-------------+------+\n",
            "\n"
          ]
        }
      ]
    },
    {
      "cell_type": "code",
      "source": [
        "# Group by two columns\n",
        "df.groupBy(\"City_Category\", \"Stay_In_Current_City_Years\").count().show(10)"
      ],
      "metadata": {
        "colab": {
          "base_uri": "https://localhost:8080/"
        },
        "id": "5A3ymtP_nbWG",
        "outputId": "847dc237-beed-4d9a-f33b-390ab893715c"
      },
      "execution_count": null,
      "outputs": [
        {
          "output_type": "stream",
          "name": "stdout",
          "text": [
            "+-------------+--------------------------+-----+\n",
            "|City_Category|Stay_In_Current_City_Years|count|\n",
            "+-------------+--------------------------+-----+\n",
            "|            A|                        4+|22319|\n",
            "|            B|                         2|41772|\n",
            "|            C|                         2|32952|\n",
            "|            A|                         3|24804|\n",
            "|            B|                         3|42691|\n",
            "|            C|                         1|61103|\n",
            "|            A|                         1|49305|\n",
            "|            C|                        4+|27797|\n",
            "|            C|                         0|21533|\n",
            "|            A|                         0|24178|\n",
            "+-------------+--------------------------+-----+\n",
            "only showing top 10 rows\n",
            "\n"
          ]
        }
      ]
    },
    {
      "cell_type": "code",
      "source": [
        "# Count number of rows per each combination of \"City Category\" and \"Stay in current city years\"\n",
        "df.groupBy(\"City_Category\", \"Stay_In_Current_City_Years\").count().orderBy(\"City_Category\", \"Stay_In_Current_City_Years\").show(10)"
      ],
      "metadata": {
        "colab": {
          "base_uri": "https://localhost:8080/"
        },
        "id": "WS0-fMGHm02N",
        "outputId": "29a9934d-c117-472e-9534-a7fba27f2ab9"
      },
      "execution_count": null,
      "outputs": [
        {
          "output_type": "stream",
          "name": "stdout",
          "text": [
            "+-------------+--------------------------+-----+\n",
            "|City_Category|Stay_In_Current_City_Years|count|\n",
            "+-------------+--------------------------+-----+\n",
            "|            A|                         0|24178|\n",
            "|            A|                         1|49305|\n",
            "|            A|                         2|27114|\n",
            "|            A|                         3|24804|\n",
            "|            A|                        4+|22319|\n",
            "|            B|                         0|28687|\n",
            "|            B|                         1|83413|\n",
            "|            B|                         2|41772|\n",
            "|            B|                         3|42691|\n",
            "|            B|                        4+|34610|\n",
            "+-------------+--------------------------+-----+\n",
            "only showing top 10 rows\n",
            "\n"
          ]
        }
      ]
    },
    {
      "cell_type": "code",
      "source": [
        "# Count number of rows per each combination of \"City Category\" and \"Stay in current city years\" ordered by frequency\n",
        "df.groupBy(\"City_Category\", \"Stay_In_Current_City_Years\").count().orderBy(\"count\").show(5)"
      ],
      "metadata": {
        "colab": {
          "base_uri": "https://localhost:8080/"
        },
        "id": "4JklJyUynC0q",
        "outputId": "aeb5007b-ac10-4d9c-e6a9-26a2f0206ab1"
      },
      "execution_count": null,
      "outputs": [
        {
          "output_type": "stream",
          "name": "stdout",
          "text": [
            "+-------------+--------------------------+-----+\n",
            "|City_Category|Stay_In_Current_City_Years|count|\n",
            "+-------------+--------------------------+-----+\n",
            "|            C|                         0|21533|\n",
            "|            A|                        4+|22319|\n",
            "|            A|                         0|24178|\n",
            "|            A|                         3|24804|\n",
            "|            A|                         2|27114|\n",
            "+-------------+--------------------------+-----+\n",
            "only showing top 5 rows\n",
            "\n"
          ]
        }
      ]
    },
    {
      "cell_type": "code",
      "source": [
        "# Count number of rows per each combination of \"City Category\" and \"Stay in current city years\" ordered by frequency\n",
        "df.groupBy(\"City_Category\", \"Stay_In_Current_City_Years\").count().orderBy(\"count\", ascending = False).show(5)"
      ],
      "metadata": {
        "colab": {
          "base_uri": "https://localhost:8080/"
        },
        "id": "XfjCpuGHnxdX",
        "outputId": "c42879cd-9c12-4767-9e87-a54826f15b9b"
      },
      "execution_count": null,
      "outputs": [
        {
          "output_type": "stream",
          "name": "stdout",
          "text": [
            "+-------------+--------------------------+-----+\n",
            "|City_Category|Stay_In_Current_City_Years|count|\n",
            "+-------------+--------------------------+-----+\n",
            "|            B|                         1|83413|\n",
            "|            C|                         1|61103|\n",
            "|            A|                         1|49305|\n",
            "|            B|                         3|42691|\n",
            "|            B|                         2|41772|\n",
            "+-------------+--------------------------+-----+\n",
            "only showing top 5 rows\n",
            "\n"
          ]
        }
      ]
    },
    {
      "cell_type": "markdown",
      "source": [
        "## Filtering data"
      ],
      "metadata": {
        "id": "pcew628iNIym"
      }
    },
    {
      "cell_type": "markdown",
      "source": [
        "A lot of options to filtering = https://sparkbyexamples.com/pyspark/pyspark-where-filter/\n"
      ],
      "metadata": {
        "id": "S3LSNxBdPTwL"
      }
    },
    {
      "cell_type": "code",
      "source": [
        "import pyspark.sql.functions as f"
      ],
      "metadata": {
        "id": "NhggzvQ-Oxfb"
      },
      "execution_count": null,
      "outputs": []
    },
    {
      "cell_type": "code",
      "source": [
        "# Filtering by City Category \"A\"\n",
        "df.filter(df.City_Category == \"A\").show(5)"
      ],
      "metadata": {
        "colab": {
          "base_uri": "https://localhost:8080/"
        },
        "id": "C_jc29W4NK7J",
        "outputId": "59d696f3-2932-4b33-e2ea-af695beb774f"
      },
      "execution_count": null,
      "outputs": [
        {
          "output_type": "stream",
          "name": "stdout",
          "text": [
            "+-------+----------+------+-----+----------+-------------+--------------------------+--------------+------------------+------------------+------------------+--------+\n",
            "|User_ID|Product_ID|Gender|  Age|Occupation|City_Category|Stay_In_Current_City_Years|Marital_Status|Product_Category_1|Product_Category_2|Product_Category_3|Purchase|\n",
            "+-------+----------+------+-----+----------+-------------+--------------------------+--------------+------------------+------------------+------------------+--------+\n",
            "|1000001| P00069042|     F| 0-17|        10|            A|                         2|             0|                 3|              null|              null|    8370|\n",
            "|1000001| P00248942|     F| 0-17|        10|            A|                         2|             0|                 1|                 6|                14|   15200|\n",
            "|1000001| P00087842|     F| 0-17|        10|            A|                         2|             0|                12|              null|              null|    1422|\n",
            "|1000001| P00085442|     F| 0-17|        10|            A|                         2|             0|                12|                14|              null|    1057|\n",
            "|1000003| P00193542|     M|26-35|        15|            A|                         3|             0|                 1|                 2|              null|   15227|\n",
            "+-------+----------+------+-----+----------+-------------+--------------------------+--------------+------------------+------------------+------------------+--------+\n",
            "only showing top 5 rows\n",
            "\n"
          ]
        }
      ]
    },
    {
      "cell_type": "code",
      "source": [
        "# Also filtering by City Category \"A\"\n",
        "df.filter(f.col(\"City_Category\") == \"A\").show(5)"
      ],
      "metadata": {
        "colab": {
          "base_uri": "https://localhost:8080/"
        },
        "id": "hFZNSksvOriP",
        "outputId": "ed53dfef-1aed-427d-ffe4-0739e781d3dc"
      },
      "execution_count": null,
      "outputs": [
        {
          "output_type": "stream",
          "name": "stdout",
          "text": [
            "+-------+----------+------+-----+----------+-------------+--------------------------+--------------+------------------+------------------+------------------+--------+\n",
            "|User_ID|Product_ID|Gender|  Age|Occupation|City_Category|Stay_In_Current_City_Years|Marital_Status|Product_Category_1|Product_Category_2|Product_Category_3|Purchase|\n",
            "+-------+----------+------+-----+----------+-------------+--------------------------+--------------+------------------+------------------+------------------+--------+\n",
            "|1000001| P00069042|     F| 0-17|        10|            A|                         2|             0|                 3|              null|              null|    8370|\n",
            "|1000001| P00248942|     F| 0-17|        10|            A|                         2|             0|                 1|                 6|                14|   15200|\n",
            "|1000001| P00087842|     F| 0-17|        10|            A|                         2|             0|                12|              null|              null|    1422|\n",
            "|1000001| P00085442|     F| 0-17|        10|            A|                         2|             0|                12|                14|              null|    1057|\n",
            "|1000003| P00193542|     M|26-35|        15|            A|                         3|             0|                 1|                 2|              null|   15227|\n",
            "+-------+----------+------+-----+----------+-------------+--------------------------+--------------+------------------+------------------+------------------+--------+\n",
            "only showing top 5 rows\n",
            "\n"
          ]
        }
      ]
    },
    {
      "cell_type": "code",
      "source": [
        "# Filtering by two conditions\n",
        "df.filter((f.col(\"City_Category\") == \"A\") & (f.col(\"Gender\") == \"M\")).show(5)"
      ],
      "metadata": {
        "colab": {
          "base_uri": "https://localhost:8080/"
        },
        "id": "XYiD-51mO2Ks",
        "outputId": "060060ae-5dc3-42e3-96aa-5d420a77bc07"
      },
      "execution_count": null,
      "outputs": [
        {
          "output_type": "stream",
          "name": "stdout",
          "text": [
            "+-------+----------+------+-----+----------+-------------+--------------------------+--------------+------------------+------------------+------------------+--------+\n",
            "|User_ID|Product_ID|Gender|  Age|Occupation|City_Category|Stay_In_Current_City_Years|Marital_Status|Product_Category_1|Product_Category_2|Product_Category_3|Purchase|\n",
            "+-------+----------+------+-----+----------+-------------+--------------------------+--------------+------------------+------------------+------------------+--------+\n",
            "|1000003| P00193542|     M|26-35|        15|            A|                         3|             0|                 1|                 2|              null|   15227|\n",
            "|1000005| P00274942|     M|26-35|        20|            A|                         1|             1|                 8|              null|              null|    7871|\n",
            "|1000005| P00251242|     M|26-35|        20|            A|                         1|             1|                 5|                11|              null|    5254|\n",
            "|1000005| P00014542|     M|26-35|        20|            A|                         1|             1|                 8|              null|              null|    3957|\n",
            "|1000005| P00031342|     M|26-35|        20|            A|                         1|             1|                 8|              null|              null|    6073|\n",
            "+-------+----------+------+-----+----------+-------------+--------------------------+--------------+------------------+------------------+------------------+--------+\n",
            "only showing top 5 rows\n",
            "\n"
          ]
        }
      ]
    },
    {
      "cell_type": "code",
      "source": [
        "# Filtering by two conditions, select just a few columns and ordering result\n",
        "df.select('User_ID', 'Product_ID')\\\n",
        "  .filter((f.col(\"City_Category\") == \"A\") & (f.col(\"Gender\") == \"M\"))\\\n",
        "  .orderBy(\"Product_ID\").show(10)"
      ],
      "metadata": {
        "colab": {
          "base_uri": "https://localhost:8080/"
        },
        "id": "tBa7QxEkPHBM",
        "outputId": "ea32d530-35e9-4771-f2dc-fa087d276fef"
      },
      "execution_count": null,
      "outputs": [
        {
          "output_type": "stream",
          "name": "stdout",
          "text": [
            "+-------+----------+\n",
            "|User_ID|Product_ID|\n",
            "+-------+----------+\n",
            "|1003618| P00000142|\n",
            "|1001501| P00000142|\n",
            "|1003650| P00000142|\n",
            "|1002459| P00000142|\n",
            "|1003679| P00000142|\n",
            "|1002994| P00000142|\n",
            "|1003066| P00000142|\n",
            "|1005684| P00000142|\n",
            "|1003892| P00000142|\n",
            "|1002658| P00000142|\n",
            "+-------+----------+\n",
            "only showing top 10 rows\n",
            "\n"
          ]
        }
      ]
    },
    {
      "cell_type": "markdown",
      "source": [
        "## Updating column type"
      ],
      "metadata": {
        "id": "ewgVIdetrvJP"
      }
    },
    {
      "cell_type": "code",
      "source": [
        "df = df.withColumn(\"Purchase\", df.Purchase.cast('double'))\n",
        "df.printSchema()"
      ],
      "metadata": {
        "colab": {
          "base_uri": "https://localhost:8080/"
        },
        "id": "AxzfHgZKrx8m",
        "outputId": "77e2c04f-f8b0-44bb-8cc0-c6899c92ef27"
      },
      "execution_count": null,
      "outputs": [
        {
          "output_type": "stream",
          "name": "stdout",
          "text": [
            "root\n",
            " |-- User_ID: string (nullable = true)\n",
            " |-- Product_ID: string (nullable = true)\n",
            " |-- Gender: string (nullable = true)\n",
            " |-- Age: string (nullable = true)\n",
            " |-- Occupation: string (nullable = true)\n",
            " |-- City_Category: string (nullable = true)\n",
            " |-- Stay_In_Current_City_Years: string (nullable = true)\n",
            " |-- Marital_Status: string (nullable = true)\n",
            " |-- Product_Category_1: string (nullable = true)\n",
            " |-- Product_Category_2: string (nullable = true)\n",
            " |-- Product_Category_3: string (nullable = true)\n",
            " |-- Purchase: double (nullable = true)\n",
            "\n"
          ]
        }
      ]
    },
    {
      "cell_type": "markdown",
      "source": [
        "## Aggregative functions (sum, avg, min, max...)"
      ],
      "metadata": {
        "id": "inoaQ6Bcsrik"
      }
    },
    {
      "cell_type": "code",
      "source": [
        "# Sum purchase per user\n",
        "df.groupBy(\"User_ID\").agg(f.sum(\"Purchase\")).show(10)"
      ],
      "metadata": {
        "colab": {
          "base_uri": "https://localhost:8080/"
        },
        "id": "tfwRsBldsv4U",
        "outputId": "61249e0c-50b9-45e6-d4b5-3697d7cf1910"
      },
      "execution_count": null,
      "outputs": [
        {
          "output_type": "stream",
          "name": "stdout",
          "text": [
            "+-------+-------------+\n",
            "|User_ID|sum(Purchase)|\n",
            "+-------+-------------+\n",
            "|1000240|     854532.0|\n",
            "|1000280|     189891.0|\n",
            "|1000795|     559717.0|\n",
            "|1000839|    4681205.0|\n",
            "|1000888|     492236.0|\n",
            "|1001866|     860896.0|\n",
            "|1002011|    1370857.0|\n",
            "|1002185|    1540819.0|\n",
            "|1002442|     100036.0|\n",
            "|1002783|     335592.0|\n",
            "+-------+-------------+\n",
            "only showing top 10 rows\n",
            "\n"
          ]
        }
      ]
    },
    {
      "cell_type": "code",
      "source": [
        "# Sum purchase per user and get top 5\n",
        "df.groupBy(\"User_ID\").agg(f.sum(\"Purchase\")).orderBy(\"sum(Purchase)\", ascending = False).show(5)"
      ],
      "metadata": {
        "colab": {
          "base_uri": "https://localhost:8080/"
        },
        "id": "0TJttpxIpbMY",
        "outputId": "88b669e2-5550-4867-ff2c-b92804d3494b"
      },
      "execution_count": null,
      "outputs": [
        {
          "output_type": "stream",
          "name": "stdout",
          "text": [
            "+-------+-------------+\n",
            "|User_ID|sum(Purchase)|\n",
            "+-------+-------------+\n",
            "|1004277|  1.0536909E7|\n",
            "|1001680|    8699596.0|\n",
            "|1002909|    7577756.0|\n",
            "|1001941|    6817493.0|\n",
            "|1000424|    6573609.0|\n",
            "+-------+-------------+\n",
            "only showing top 5 rows\n",
            "\n"
          ]
        }
      ]
    },
    {
      "cell_type": "code",
      "source": [
        "# Same result but renaming column name\n",
        "df.groupBy(\"User_ID\").agg(f.sum(\"Purchase\").alias(\"Total Purchase\")).orderBy(\"Total Purchase\", ascending = False).show(5)"
      ],
      "metadata": {
        "colab": {
          "base_uri": "https://localhost:8080/"
        },
        "id": "VmEHiamBq_zb",
        "outputId": "d6d18872-aaa7-417e-f36c-d4a2be46041d"
      },
      "execution_count": null,
      "outputs": [
        {
          "output_type": "stream",
          "name": "stdout",
          "text": [
            "+-------+--------------+\n",
            "|User_ID|Total Purchase|\n",
            "+-------+--------------+\n",
            "|1004277|   1.0536909E7|\n",
            "|1001680|     8699596.0|\n",
            "|1002909|     7577756.0|\n",
            "|1001941|     6817493.0|\n",
            "|1000424|     6573609.0|\n",
            "+-------+--------------+\n",
            "only showing top 5 rows\n",
            "\n"
          ]
        }
      ]
    },
    {
      "cell_type": "code",
      "source": [
        "# Purchase avg per user and get top 5\n",
        "df.groupBy(\"User_ID\").agg(f.mean(\"Purchase\")).show(5)"
      ],
      "metadata": {
        "colab": {
          "base_uri": "https://localhost:8080/"
        },
        "id": "pkvVriFYrJbK",
        "outputId": "727c8457-7aa5-4edb-e2c5-9b725b8d925a"
      },
      "execution_count": null,
      "outputs": [
        {
          "output_type": "stream",
          "name": "stdout",
          "text": [
            "+-------+------------------+\n",
            "|User_ID|     avg(Purchase)|\n",
            "+-------+------------------+\n",
            "|1000240| 9936.418604651162|\n",
            "|1000280|            7303.5|\n",
            "|1000795|         6996.4625|\n",
            "|1000839|  10761.3908045977|\n",
            "|1000888|10473.106382978724|\n",
            "+-------+------------------+\n",
            "only showing top 5 rows\n",
            "\n"
          ]
        }
      ]
    },
    {
      "cell_type": "code",
      "source": [
        "# Can you round the result and rename the purchase column?\n",
        "df.groupBy(\"User_ID\").agg(f.round(f.mean(\"Purchase\"), 2)\\\n",
        "                          .alias(\"Rounded_Purchase\"))\\\n",
        "                          .orderBy(\"Rounded_Purchase\", ascending = False).show(5)"
      ],
      "metadata": {
        "colab": {
          "base_uri": "https://localhost:8080/"
        },
        "id": "d5JnuCFarZMb",
        "outputId": "0ef94c5e-7e66-44aa-a0ab-d293c24efa07"
      },
      "execution_count": null,
      "outputs": [
        {
          "output_type": "stream",
          "name": "stdout",
          "text": [
            "+-------+----------------+\n",
            "|User_ID|Rounded_Purchase|\n",
            "+-------+----------------+\n",
            "|1003902|        18577.89|\n",
            "|1005069|        18490.17|\n",
            "|1005999|        18345.94|\n",
            "|1001349|        18162.74|\n",
            "|1003461|         17508.7|\n",
            "+-------+----------------+\n",
            "only showing top 5 rows\n",
            "\n"
          ]
        }
      ]
    },
    {
      "cell_type": "code",
      "source": [
        "# Create a new DF -> Calculate frecuency, min, max, total and avg purchase per user\n",
        "\n",
        "purchase_data = df.groupBy(\"User_ID\").agg(f.count('User_ID').alias(\"Frequency\"), \n",
        "                                          f.mean('Purchase').alias(\"Avg_Purchase\"), \n",
        "                                          f.sum('Purchase').alias(\"Total_Purchase\"), \n",
        "                                          f.min('Purchase').alias(\"Min_Purchase\"), \n",
        "                                          f.max('Purchase').alias(\"Max_Purchase\"))\n",
        "\n",
        "purchase_data.show(10)"
      ],
      "metadata": {
        "colab": {
          "base_uri": "https://localhost:8080/"
        },
        "id": "Ti3Nuu3nsh7d",
        "outputId": "77d47ec3-0b68-4d13-f03d-9ce55864a555"
      },
      "execution_count": null,
      "outputs": [
        {
          "output_type": "stream",
          "name": "stdout",
          "text": [
            "+-------+---------+------------------+--------------+------------+------------+\n",
            "|User_ID|Frequency|      Avg_Purchase|Total_Purchase|Min_Purchase|Max_Purchase|\n",
            "+-------+---------+------------------+--------------+------------+------------+\n",
            "|1000240|       86| 9936.418604651162|      854532.0|       247.0|     19647.0|\n",
            "|1000280|       26|            7303.5|      189891.0|       773.0|     19352.0|\n",
            "|1000795|       80|         6996.4625|      559717.0|      1720.0|     20646.0|\n",
            "|1000839|      435|  10761.3908045977|     4681205.0|       578.0|     23842.0|\n",
            "|1000888|       47|10473.106382978724|      492236.0|        24.0|     19396.0|\n",
            "|1001866|       90| 9565.511111111111|      860896.0|       932.0|     23589.0|\n",
            "|1002011|      141| 9722.390070921985|     1370857.0|       474.0|     20108.0|\n",
            "|1002185|      171| 9010.637426900585|     1540819.0|        25.0|     23277.0|\n",
            "|1002442|       16|           6252.25|      100036.0|       377.0|     16475.0|\n",
            "|1002783|       28| 11985.42857142857|      335592.0|        26.0|     23765.0|\n",
            "+-------+---------+------------------+--------------+------------+------------+\n",
            "only showing top 10 rows\n",
            "\n"
          ]
        }
      ]
    },
    {
      "cell_type": "markdown",
      "source": [
        "## Rename, create and drop columns"
      ],
      "metadata": {
        "id": "5VACNcAmuuOR"
      }
    },
    {
      "cell_type": "code",
      "source": [
        "# Renaming column\n",
        "purchase_data.withColumnRenamed(\"User_ID\", \"User_Number_ID\").show(5)"
      ],
      "metadata": {
        "colab": {
          "base_uri": "https://localhost:8080/"
        },
        "id": "K0tEPguutww6",
        "outputId": "e09be0f7-d7fb-4afa-8524-70afe4d3ceae"
      },
      "execution_count": null,
      "outputs": [
        {
          "output_type": "stream",
          "name": "stdout",
          "text": [
            "+--------------+---------+------------------+--------------+------------+------------+\n",
            "|User_Number_ID|Frequency|      Avg_Purchase|Total_Purchase|Min_Purchase|Max_Purchase|\n",
            "+--------------+---------+------------------+--------------+------------+------------+\n",
            "|       1000240|       86| 9936.418604651162|      854532.0|       247.0|     19647.0|\n",
            "|       1000280|       26|            7303.5|      189891.0|       773.0|     19352.0|\n",
            "|       1000795|       80|         6996.4625|      559717.0|      1720.0|     20646.0|\n",
            "|       1000839|      435|  10761.3908045977|     4681205.0|       578.0|     23842.0|\n",
            "|       1000888|       47|10473.106382978724|      492236.0|        24.0|     19396.0|\n",
            "+--------------+---------+------------------+--------------+------------+------------+\n",
            "only showing top 5 rows\n",
            "\n"
          ]
        }
      ]
    },
    {
      "cell_type": "code",
      "source": [
        "# Renaming many column\n",
        "pr_df = purchase_data.withColumnRenamed(\"User_ID\", \"User_Number_ID\") \\\n",
        "                     .withColumnRenamed(\"Frequency\", \"Freq\") \\\n",
        "                     .withColumnRenamed(\"Avg_Purchase\", \"Avg\")\n",
        "\n",
        "pr_df.show(5)"
      ],
      "metadata": {
        "colab": {
          "base_uri": "https://localhost:8080/"
        },
        "id": "5gwIaowyvKB9",
        "outputId": "d50f625f-e42b-4a78-fa0d-e8562f4eb562"
      },
      "execution_count": null,
      "outputs": [
        {
          "output_type": "stream",
          "name": "stdout",
          "text": [
            "+--------------+----+------------------+--------------+------------+------------+\n",
            "|User_Number_ID|Freq|               Avg|Total_Purchase|Min_Purchase|Max_Purchase|\n",
            "+--------------+----+------------------+--------------+------------+------------+\n",
            "|       1000240|  86| 9936.418604651162|      854532.0|       247.0|     19647.0|\n",
            "|       1000280|  26|            7303.5|      189891.0|       773.0|     19352.0|\n",
            "|       1000795|  80|         6996.4625|      559717.0|      1720.0|     20646.0|\n",
            "|       1000839| 435|  10761.3908045977|     4681205.0|       578.0|     23842.0|\n",
            "|       1000888|  47|10473.106382978724|      492236.0|        24.0|     19396.0|\n",
            "+--------------+----+------------------+--------------+------------+------------+\n",
            "only showing top 5 rows\n",
            "\n"
          ]
        }
      ]
    },
    {
      "cell_type": "code",
      "source": [
        "# Creating new columns\n",
        "pr_df.withColumn(\"Range\", f.col(\"Max_Purchase\") - f.col(\"Min_Purchase\")).show(5)\n"
      ],
      "metadata": {
        "colab": {
          "base_uri": "https://localhost:8080/"
        },
        "id": "ZJ7V2_tFu9Bc",
        "outputId": "e7172748-4cfa-4d9f-c0ff-8eb765e4a737"
      },
      "execution_count": null,
      "outputs": [
        {
          "output_type": "stream",
          "name": "stdout",
          "text": [
            "+--------------+----+------------------+--------------+------------+------------+-------+\n",
            "|User_Number_ID|Freq|               Avg|Total_Purchase|Min_Purchase|Max_Purchase|  Range|\n",
            "+--------------+----+------------------+--------------+------------+------------+-------+\n",
            "|       1000240|  86| 9936.418604651162|      854532.0|       247.0|     19647.0|19400.0|\n",
            "|       1000280|  26|            7303.5|      189891.0|       773.0|     19352.0|18579.0|\n",
            "|       1000795|  80|         6996.4625|      559717.0|      1720.0|     20646.0|18926.0|\n",
            "|       1000839| 435|  10761.3908045977|     4681205.0|       578.0|     23842.0|23264.0|\n",
            "|       1000888|  47|10473.106382978724|      492236.0|        24.0|     19396.0|19372.0|\n",
            "+--------------+----+------------------+--------------+------------+------------+-------+\n",
            "only showing top 5 rows\n",
            "\n"
          ]
        }
      ]
    },
    {
      "cell_type": "code",
      "source": [
        "# Creating new columns\n",
        "pr_df.withColumn(\"Label\", f.when(f.col(\"Freq\") < 100, \"Less than 100\") \\\n",
        "                           .when(f.col(\"Freq\") < 300, \"Less than 300\") \n",
        "                           .otherwise(\"More than 300\")).show(10)\n"
      ],
      "metadata": {
        "colab": {
          "base_uri": "https://localhost:8080/"
        },
        "id": "R72QlOUPvldm",
        "outputId": "cf45ce65-a17e-438c-dfac-26b996cfbd37"
      },
      "execution_count": null,
      "outputs": [
        {
          "output_type": "stream",
          "name": "stdout",
          "text": [
            "+--------------+----+------------------+--------------+------------+------------+-------------+\n",
            "|User_Number_ID|Freq|               Avg|Total_Purchase|Min_Purchase|Max_Purchase|        Label|\n",
            "+--------------+----+------------------+--------------+------------+------------+-------------+\n",
            "|       1000240|  86| 9936.418604651162|      854532.0|       247.0|     19647.0|Less than 100|\n",
            "|       1000280|  26|            7303.5|      189891.0|       773.0|     19352.0|Less than 100|\n",
            "|       1000795|  80|         6996.4625|      559717.0|      1720.0|     20646.0|Less than 100|\n",
            "|       1000839| 435|  10761.3908045977|     4681205.0|       578.0|     23842.0|More than 300|\n",
            "|       1000888|  47|10473.106382978724|      492236.0|        24.0|     19396.0|Less than 100|\n",
            "|       1001866|  90| 9565.511111111111|      860896.0|       932.0|     23589.0|Less than 100|\n",
            "|       1002011| 141| 9722.390070921985|     1370857.0|       474.0|     20108.0|Less than 300|\n",
            "|       1002185| 171| 9010.637426900585|     1540819.0|        25.0|     23277.0|Less than 300|\n",
            "|       1002442|  16|           6252.25|      100036.0|       377.0|     16475.0|Less than 100|\n",
            "|       1002783|  28| 11985.42857142857|      335592.0|        26.0|     23765.0|Less than 100|\n",
            "+--------------+----+------------------+--------------+------------+------------+-------------+\n",
            "only showing top 10 rows\n",
            "\n"
          ]
        }
      ]
    },
    {
      "cell_type": "code",
      "source": [
        "# Drop one column\n",
        "\n",
        "new_df = df.drop(\"Stay_In_Current_City_Years\")\n",
        "new_df.show(5)"
      ],
      "metadata": {
        "id": "XZTUHzUQxrQW",
        "colab": {
          "base_uri": "https://localhost:8080/"
        },
        "outputId": "b81fb5ca-585c-444d-dc5a-14c33f6201e6"
      },
      "execution_count": null,
      "outputs": [
        {
          "output_type": "stream",
          "name": "stdout",
          "text": [
            "+-------+----------+------+----+----------+-------------+--------------+------------------+------------------+------------------+--------+\n",
            "|User_ID|Product_ID|Gender| Age|Occupation|City_Category|Marital_Status|Product_Category_1|Product_Category_2|Product_Category_3|Purchase|\n",
            "+-------+----------+------+----+----------+-------------+--------------+------------------+------------------+------------------+--------+\n",
            "|1000001| P00069042|     F|0-17|        10|            A|             0|                 3|              null|              null|  8370.0|\n",
            "|1000001| P00248942|     F|0-17|        10|            A|             0|                 1|                 6|                14| 15200.0|\n",
            "|1000001| P00087842|     F|0-17|        10|            A|             0|                12|              null|              null|  1422.0|\n",
            "|1000001| P00085442|     F|0-17|        10|            A|             0|                12|                14|              null|  1057.0|\n",
            "|1000002| P00285442|     M| 55+|        16|            C|             0|                 8|              null|              null|  7969.0|\n",
            "+-------+----------+------+----+----------+-------------+--------------+------------------+------------------+------------------+--------+\n",
            "only showing top 5 rows\n",
            "\n"
          ]
        }
      ]
    },
    {
      "cell_type": "code",
      "source": [
        "# Drop N columns\n",
        "\n",
        "columns_to_drop = [\"Stay_In_Current_City_Years\",\"Gender\", \"Product_Category_1\", \"Product_Category_2\"]\n",
        "new_df = df.drop(*columns_to_drop)\n",
        "\n",
        "new_df.show(5)"
      ],
      "metadata": {
        "colab": {
          "base_uri": "https://localhost:8080/"
        },
        "id": "R_6LTgTpgW-t",
        "outputId": "2b03a03f-ab71-408a-b5b5-4c20f0894f2d"
      },
      "execution_count": null,
      "outputs": [
        {
          "output_type": "stream",
          "name": "stdout",
          "text": [
            "+-------+----------+----+----------+-------------+--------------+------------------+--------+\n",
            "|User_ID|Product_ID| Age|Occupation|City_Category|Marital_Status|Product_Category_3|Purchase|\n",
            "+-------+----------+----+----------+-------------+--------------+------------------+--------+\n",
            "|1000001| P00069042|0-17|        10|            A|             0|              null|  8370.0|\n",
            "|1000001| P00248942|0-17|        10|            A|             0|                14| 15200.0|\n",
            "|1000001| P00087842|0-17|        10|            A|             0|              null|  1422.0|\n",
            "|1000001| P00085442|0-17|        10|            A|             0|              null|  1057.0|\n",
            "|1000002| P00285442| 55+|        16|            C|             0|              null|  7969.0|\n",
            "+-------+----------+----+----------+-------------+--------------+------------------+--------+\n",
            "only showing top 5 rows\n",
            "\n"
          ]
        }
      ]
    }
  ]
}